{
 "cells": [
  {
   "cell_type": "code",
   "execution_count": 2,
   "metadata": {
    "metadata": {}
   },
   "outputs": [],
   "source": [
    "# @title Step 1: Enter URL & Choose Whisper Model\n",
    "\n",
    "# @markdown Enter the URL of the YouTube video\n",
    "YouTube_URL = \"https://youtu.be/UXDbAcmDrAU?si=FIaM_F8qJqvn09U6\" #@param {type:\"string\"}\n",
    "\n",
    "# @markdown Choose the whisper model you want to use\n",
    "whisper_model = \"tiny\" # @param [\"tiny\", \"base\", \"small\", \"medium\", \"large\", \"large-v2\", \"large-v3\"]\n",
    "\n",
    "# @markdown Save the transcription as text (.txt) file?\n",
    "text = True #@param {type:\"boolean\"}\n",
    "\n",
    "# @markdown Save the transcription as an SRT (.srt) file?\n",
    "srt = True #@param {type:\"boolean\"}"
   ]
  },
  {
   "cell_type": "code",
   "execution_count": 7,
   "metadata": {
    "metadata": {}
   },
   "outputs": [
    {
     "name": "stdout",
     "output_type": "stream",
     "text": [
      "^C\n",
      "\u001b[31mERROR: Operation cancelled by user\u001b[0m\n"
     ]
    },
    {
     "ename": "ModuleNotFoundError",
     "evalue": "No module named 'whisper'",
     "output_type": "error",
     "traceback": [
      "\u001b[0;31m---------------------------------------------------------------------------\u001b[0m",
      "\u001b[0;31mModuleNotFoundError\u001b[0m                       Traceback (most recent call last)",
      "Cell \u001b[0;32mIn[7], line 10\u001b[0m\n\u001b[1;32m      8\u001b[0m \u001b[38;5;28;01mfrom\u001b[39;00m \u001b[38;5;21;01mpathlib\u001b[39;00m \u001b[38;5;28;01mimport\u001b[39;00m Path\n\u001b[1;32m      9\u001b[0m \u001b[38;5;28;01mfrom\u001b[39;00m \u001b[38;5;21;01mpytube\u001b[39;00m \u001b[38;5;28;01mimport\u001b[39;00m YouTube\n\u001b[0;32m---> 10\u001b[0m \u001b[38;5;28;01mimport\u001b[39;00m \u001b[38;5;21;01mwhisper\u001b[39;00m\n\u001b[1;32m     11\u001b[0m \u001b[38;5;28;01mfrom\u001b[39;00m \u001b[38;5;21;01mwhisper\u001b[39;00m\u001b[38;5;21;01m.\u001b[39;00m\u001b[38;5;21;01mutils\u001b[39;00m \u001b[38;5;28;01mimport\u001b[39;00m get_writer\n",
      "\u001b[0;31mModuleNotFoundError\u001b[0m: No module named 'whisper'"
     ]
    }
   ],
   "source": [
    "# Step 2: Install Dependencies (this may take about 2-3 min)\n",
    "\n",
    "!pip3 install -q pytube\n",
    "!pip3 install -q git+https://github.com/openai/whisper.git\n",
    "\n",
    "import os, re\n",
    "import torch\n",
    "from pathlib import Path\n",
    "from pytube import YouTube\n",
    "import whisper\n",
    "from whisper.utils import get_writer"
   ]
  },
  {
   "cell_type": "code",
   "execution_count": 11,
   "metadata": {
    "metadata": {}
   },
   "outputs": [
    {
     "ename": "NameError",
     "evalue": "name 'torch' is not defined",
     "output_type": "error",
     "traceback": [
      "\u001b[0;31m---------------------------------------------------------------------------\u001b[0m",
      "\u001b[0;31mNameError\u001b[0m                                 Traceback (most recent call last)",
      "Cell \u001b[0;32mIn[11], line 3\u001b[0m\n\u001b[1;32m      1\u001b[0m \u001b[38;5;66;03m# Step 3: Transcribe the video/audio data\u001b[39;00m\n\u001b[0;32m----> 3\u001b[0m device \u001b[38;5;241m=\u001b[39m \u001b[38;5;124m\"\u001b[39m\u001b[38;5;124mcuda\u001b[39m\u001b[38;5;124m\"\u001b[39m \u001b[38;5;28;01mif\u001b[39;00m \u001b[43mtorch\u001b[49m\u001b[38;5;241m.\u001b[39mcuda\u001b[38;5;241m.\u001b[39mis_available() \u001b[38;5;28;01melse\u001b[39;00m \u001b[38;5;124m\"\u001b[39m\u001b[38;5;124mcpu\u001b[39m\u001b[38;5;124m\"\u001b[39m\n\u001b[1;32m      4\u001b[0m model \u001b[38;5;241m=\u001b[39m whisper\u001b[38;5;241m.\u001b[39mload_model(whisper_model)\u001b[38;5;241m.\u001b[39mto(device)\n\u001b[1;32m      6\u001b[0m \u001b[38;5;66;03m# Util function to change name\u001b[39;00m\n",
      "\u001b[0;31mNameError\u001b[0m: name 'torch' is not defined"
     ]
    }
   ],
   "source": [
    "# Step 3: Transcribe the video/audio data\n",
    "\n",
    "device = \"cuda\" if torch.cuda.is_available() else \"cpu\"\n",
    "model = whisper.load_model(whisper_model).to(device)\n",
    "\n",
    "# Util function to change name\n",
    "def to_snake_case(name):\n",
    "    return name.lower().replace(\" \", \"_\").replace(\":\", \"_\").replace(\"__\", \"_\")\n",
    "\n",
    "# Download the audio data from YouTube video\n",
    "def download_audio_from_youtube(url,  file_name = None, out_dir = \".\"):\n",
    "    print(f\"\\n==> Downloading audio...\")\n",
    "    yt = YouTube(url)\n",
    "    if file_name is None:\n",
    "        file_name = Path(out_dir, to_snake_case(yt.title)).with_suffix(\".mp4\")\n",
    "    yt = (yt.streams\n",
    "            .filter(only_audio = True, file_extension = \"mp4\")\n",
    "            .order_by(\"abr\")\n",
    "            .desc())\n",
    "    return yt.first().download(filename = file_name)\n",
    "\n",
    "\n",
    "# Transcribe the audio data with Whisper\n",
    "def transcribe_audio(model, file, text, srt):\n",
    "    print(\"\\n=======================\")\n",
    "    print(f\"\\n🔗 YouTube URL: {YouTube_URL}\")\n",
    "    print(f\"\\n🤖 Whisper Model: {whisper_model}\")\n",
    "    print(\"\\n=======================\")\n",
    "\n",
    "    file_path = Path(file)\n",
    "    output_directory = file_path.parent\n",
    "\n",
    "    # Run Whisper to transcribe audio\n",
    "    print(f\"\\n==> Transcribing audio\")\n",
    "    result = model.transcribe(file, verbose = False)\n",
    "\n",
    "    if text:\n",
    "        print(f\"\\n==> Creating .txt file\")\n",
    "        txt_path = file_path.with_suffix(\".txt\")\n",
    "        with open(txt_path, \"w\", encoding=\"utf-8\") as txt:\n",
    "            txt.write(result[\"text\"])\n",
    "    if srt:\n",
    "        print(f\"\\n==> Creating .srt file\")\n",
    "        srt_writer = get_writer(\"srt\", output_directory)\n",
    "        srt_writer(result, str(file_path.stem))\n",
    "\n",
    "    # Download the transcribed files locally\n",
    "    from google.colab import files\n",
    "\n",
    "    colab_files = Path(\"/content\")\n",
    "    stem = file_path.stem\n",
    "\n",
    "    for colab_file in colab_files.glob(f\"{stem}*\"):\n",
    "        if colab_file.suffix in [\".txt\", \".srt\"]:\n",
    "            files.download(str(colab_file))\n",
    "\n",
    "    print(\"\\n✨ All Done!\")\n",
    "    print(\"=======================\")\n",
    "    return result\n",
    "\n",
    "# Download & Transcribe the audio data\n",
    "audio = download_audio_from_youtube(YouTube_URL)\n",
    "result = transcribe_audio(model, audio, text, srt)"
   ]
  }
 ],
 "metadata": {
  "kernelspec": {
   "display_name": "Python 3",
   "language": "python",
   "name": "python3"
  },
  "language_info": {
   "codemirror_mode": {
    "name": "ipython",
    "version": 3
   },
   "file_extension": ".py",
   "mimetype": "text/x-python",
   "name": "python",
   "nbconvert_exporter": "python",
   "pygments_lexer": "ipython3",
   "version": "3.8.5"
  }
 },
 "nbformat": 4,
 "nbformat_minor": 2
}
